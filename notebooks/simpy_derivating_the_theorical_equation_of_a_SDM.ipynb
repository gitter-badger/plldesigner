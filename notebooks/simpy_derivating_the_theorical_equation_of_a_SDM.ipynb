{
 "metadata": {
  "name": "",
  "signature": "sha256:df858b10bc73f86ba4bd5e224f202324d4cd8fc64a9e7a18973db9a6afd1af5d"
 },
 "nbformat": 3,
 "nbformat_minor": 0,
 "worksheets": [
  {
   "cells": [
    {
     "cell_type": "heading",
     "level": 1,
     "metadata": {},
     "source": [
      "The transfer function of the fractional SD modulator"
     ]
    },
    {
     "cell_type": "code",
     "collapsed": false,
     "input": [
      "init_printing(use_latex=True)\n",
      "from sympy import *\n",
      "fo,fi, fref, N, z, m= symbols('f_{out} f_{in} f_{ref} N z m')\n",
      "f = Function('f')\n",
      "Dq = Function('\\Delta_{q}')"
     ],
     "language": "python",
     "metadata": {},
     "outputs": [],
     "prompt_number": 52
    },
    {
     "cell_type": "code",
     "collapsed": false,
     "input": [
      "fo = fi/(N+f(z)+(1-z**(-1))**m*Dq(z))\n",
      "fo"
     ],
     "language": "python",
     "metadata": {},
     "outputs": [
      {
       "latex": [
        "$$\\frac{f_{{in}}}{N + \\left(1 - \\frac{1}{z}\\right)^{m} \\Delta_{q}{\\left (z \\right )} + f{\\left (z \\right )}}$$"
       ],
       "metadata": {},
       "output_type": "pyout",
       "png": "[encoded data removed]",
       "prompt_number": 60,
       "text": [
        "              f_{in}             \n",
        "\u2500\u2500\u2500\u2500\u2500\u2500\u2500\u2500\u2500\u2500\u2500\u2500\u2500\u2500\u2500\u2500\u2500\u2500\u2500\u2500\u2500\u2500\u2500\u2500\u2500\u2500\u2500\u2500\u2500\u2500\u2500\u2500\u2500\n",
        "           m                     \n",
        "    \u239b    1\u239e                      \n",
        "N + \u239c1 - \u2500\u239f \u22c5\\Delta_{q}(z) + f(z)\n",
        "    \u239d    z\u23a0                      "
       ]
      }
     ],
     "prompt_number": 60
    },
    {
     "cell_type": "code",
     "collapsed": false,
     "input": [
      "x= symbols('x')\n",
      "extp= series(1/(1+x))\n",
      "extp"
     ],
     "language": "python",
     "metadata": {},
     "outputs": [
      {
       "latex": [
        "$$1 - x + x^{2} - x^{3} + x^{4} - x^{5} + \\mathcal{O}\\left(x^{6}\\right)$$"
       ],
       "metadata": {},
       "output_type": "pyout",
       "png": "[encoded data removed]",
       "prompt_number": 54,
       "text": [
        "         2    3    4    5    \u239b 6\u239e\n",
        "1 - x + x  - x  + x  - x  + O\u239dx \u23a0"
       ]
      }
     ],
     "prompt_number": 54
    },
    {
     "cell_type": "code",
     "collapsed": false,
     "input": [
      "fo = fi/(N+f(z)) *(1-(1-z**(-1))**m*Dq(z)/(N+f(z)))\n",
      "fo.subs(fi/(N+f(z)), fref)"
     ],
     "language": "python",
     "metadata": {},
     "outputs": [
      {
       "latex": [
        "$$f_{{ref}} \\left(- \\frac{\\left(1 - \\frac{1}{z}\\right)^{m} \\Delta_{q}{\\left (z \\right )}}{N + f{\\left (z \\right )}} + 1\\right)$$"
       ],
       "metadata": {},
       "output_type": "pyout",
       "png": "[encoded data removed]",
       "prompt_number": 62,
       "text": [
        "        \u239b         m                  \u239e\n",
        "        \u239c  \u239b    1\u239e                   \u239f\n",
        "        \u239c  \u239c1 - \u2500\u239f \u22c5\\Delta_{q}(z)    \u239f\n",
        "        \u239c  \u239d    z\u23a0                   \u239f\n",
        "f_{ref}\u22c5\u239c- \u2500\u2500\u2500\u2500\u2500\u2500\u2500\u2500\u2500\u2500\u2500\u2500\u2500\u2500\u2500\u2500\u2500\u2500\u2500\u2500\u2500\u2500 + 1\u239f\n",
        "        \u239d         N + f(z)           \u23a0"
       ]
      }
     ],
     "prompt_number": 62
    },
    {
     "cell_type": "code",
     "collapsed": false,
     "input": [],
     "language": "python",
     "metadata": {},
     "outputs": []
    }
   ],
   "metadata": {}
  }
 ]
}