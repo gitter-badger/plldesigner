{
 "metadata": {
  "name": "",
  "signature": "sha256:5b10a4712b8bbca644e38b8998e9c4d9eed4e69dd68c0b81d2df315b10c7372b"
 },
 "nbformat": 3,
 "nbformat_minor": 0,
 "worksheets": [
  {
   "cells": [
    {
     "cell_type": "markdown",
     "metadata": {},
     "source": [
      "This is a example of the phase noise library\n",
      "============================================\n",
      "Phase noise has the particularity that it behaves asymtocally. So it is better presented in a log-log  scale. \n",
      "\n",
      "Specifing phase noise\n",
      "---------------------\n",
      "\n",
      "There are several ways of specifing phase noise $\\mathcal{L}$(dBc). It can be also specified in terms on $\\Phi(\\text{rad}^2/\\text{Hz})$ or $\\Phi(\\text{rad}/\\sqrt{\\text{Hz}})$."
     ]
    },
    {
     "cell_type": "code",
     "collapsed": false,
     "input": [
      "%load_ext autoreload\n",
      "%autoreload 2\n",
      "%matplotlib inline\n",
      "import sys\n",
      "sys.path.append(\"../../Python/plldesigner\")\n",
      "from __future__ import division\n",
      "import pnoise as pn\n",
      "import numpy as np\n",
      "import matplotlib.pyplot as plt\n",
      "import scipy.interpolate as intp\n",
      "from __future__ import division"
     ],
     "language": "python",
     "metadata": {},
     "outputs": [],
     "prompt_number": 1
    },
    {
     "cell_type": "markdown",
     "metadata": {},
     "source": [
      "## Noise addition"
     ]
    },
    {
     "cell_type": "code",
     "collapsed": false,
     "input": [
      "fm = np.logspace(3,9,100)\n",
      "lorentzian  = pn.pnoise(fm,10*np.log10(1/(fm*fm)),label='Lorentzian')\n",
      "fig = lorentzian.plot()\n",
      "white = pn.pnoise(fm,-120*np.ones(fm.shape),label='white')\n",
      "fig  = white.plot()\n",
      "added = lorentzian+white\n",
      "added.label = 'addition'\n",
      "added.plot()\n",
      "plt.legend()\n",
      "plt.grid(True)"
     ],
     "language": "python",
     "metadata": {},
     "outputs": [
      {
       "metadata": {},
       "output_type": "display_data",
       "png": "[encoded data removed]",
       "text": [
        "<matplotlib.figure.Figure at 0x108222590>"
       ]
      }
     ],
     "prompt_number": 2
    },
    {
     "cell_type": "code",
     "collapsed": false,
     "input": [
      "x = added.integrate()\n",
      "x"
     ],
     "language": "python",
     "metadata": {},
     "outputs": [
      {
       "metadata": {},
       "output_type": "pyout",
       "prompt_number": 3,
       "text": [
        "0.063399542415616211"
       ]
      }
     ],
     "prompt_number": 3
    },
    {
     "cell_type": "code",
     "collapsed": false,
     "input": [],
     "language": "python",
     "metadata": {},
     "outputs": [],
     "prompt_number": 3
    },
    {
     "cell_type": "markdown",
     "metadata": {},
     "source": [
      "## Noise integration with the Gardner equation"
     ]
    },
    {
     "cell_type": "markdown",
     "metadata": {},
     "source": [
      "Altough it seems trivial, integrating the noise when the ordinate is in the log scale is  not that that simple. If a linear interpolations is used, the error is quite large given the 'logarithmic' behavior of the noise. The most easy way to deal with the asymptocally behavior of the noise is to do the integration under the assumption of a linear behavior after log-log converstion"
     ]
    },
    {
     "cell_type": "code",
     "collapsed": false,
     "input": [
      "import sympy as sym\n",
      "import numpy as np\n",
      "from sympy import symbols,log,plot,Symbol, lambdify, sqrt\n",
      "fm,LdBc,fl,fh = symbols('fm,LdBc,fl,fh', postive=True)\n",
      "phi2 = 4e3/fm**3+1/fm**2+1e-11\n",
      "plot(10*log(phi2/2,10),(fm,1e3,1e6))\n",
      "iphi2 = sym.integrate(phi2,(fm,fl,fh))\n",
      "iphi = sqrt(iphi2.subs({fl:1e3,fh:1e6}))\n",
      "iphi"
     ],
     "language": "python",
     "metadata": {},
     "outputs": [
      {
       "metadata": {},
       "output_type": "display_data",
       "png": "[encoded data removed]",
       "text": [
        "<matplotlib.figure.Figure at 0x1051b2350>"
       ]
      },
      {
       "metadata": {},
       "output_type": "pyout",
       "prompt_number": 4,
       "text": [
        "0.0548542432269373"
       ]
      }
     ],
     "prompt_number": 4
    },
    {
     "cell_type": "code",
     "collapsed": false,
     "input": [
      "LdBc = 10*log(phi2/2,10)\n",
      "LdBcN = lambdify((fm),LdBc,\"numpy\")\n",
      "fm = np.logspace(3,6,num=100)\n",
      "pnobj =pn.pnoise(fm,LdBcN(fm))\n",
      "pnobj.plot()\n",
      "plt.grid(True)\n",
      "pnobj.integrate()"
     ],
     "language": "python",
     "metadata": {},
     "outputs": [
      {
       "metadata": {},
       "output_type": "pyout",
       "prompt_number": 5,
       "text": [
        "0.054965097809503385"
       ]
      },
      {
       "metadata": {},
       "output_type": "display_data",
       "png": "[encoded data removed]",
       "text": [
        "<matplotlib.figure.Figure at 0x10893f450>"
       ]
      }
     ],
     "prompt_number": 5
    },
    {
     "cell_type": "markdown",
     "metadata": {},
     "source": [
      "## Interpolate and extrapolate noise"
     ]
    },
    {
     "cell_type": "markdown",
     "metadata": {},
     "source": [
      "This is a method to interpolate and extrapolate (in a log basics, keeping the same slope), the phase noise"
     ]
    },
    {
     "cell_type": "code",
     "collapsed": false,
     "input": [
      "intp.interp1d"
     ],
     "language": "python",
     "metadata": {},
     "outputs": [
      {
       "metadata": {},
       "output_type": "pyout",
       "prompt_number": 6,
       "text": [
        "scipy.interpolate.interpolate.interp1d"
       ]
      }
     ],
     "prompt_number": 6
    },
    {
     "cell_type": "markdown",
     "metadata": {},
     "source": [
      "## Curve Fitting is another option\n"
     ]
    },
    {
     "cell_type": "code",
     "collapsed": false,
     "input": [
      "from scipy.optimize import curve_fit"
     ],
     "language": "python",
     "metadata": {},
     "outputs": [],
     "prompt_number": 7
    },
    {
     "cell_type": "code",
     "collapsed": false,
     "input": [
      "def func(fm, a, b):\n",
      "    ax = a\n",
      "    L = 10*np.log10(ax+b/fm**2)\n",
      "    return(L)\n",
      "popt, pcov = curve_fit(func, added.fm, added.LdBc, p0=(1e-12,1))"
     ],
     "language": "python",
     "metadata": {},
     "outputs": [],
     "prompt_number": 8
    },
    {
     "cell_type": "markdown",
     "metadata": {},
     "source": [
      "This does not seem to be that good way of doing it, how could I have a better,\n",
      "approximation?  The function can be a bit smarter, asking for points and expected slope in this points\n"
     ]
    },
    {
     "cell_type": "markdown",
     "metadata": {},
     "source": [
      "If the function is alwasy decresing that means that for every $f_n: f_n \\geq f_{n-1}$ with $exp_{n} \\geq exp_{n-1}$, then $LdBc_n \\leq LdBc_{n-1}$. Then the function to interpolete is symply:   $LdBc(f_m) = a_0 f_m^{exp_{0}}+a_1 f_m^{exp_{1}}+a_2 f_m^{exp_{2}}$. What happen when the noise is not always decreasing?. (Notice that the $exp_{n}$ is always $exp_{n}\\leq 0$ What is the function that works. \n",
      "I suppose that that a term with (f_m-fn) was to be included. On the other hands this only happens if there is a loop, or something like that otherwise the noise is always groing for lower f_m. I suppose we can live with the simple function. \n"
     ]
    },
    {
     "cell_type": "code",
     "collapsed": false,
     "input": [
      "func = pn.create_fit_func([-1,0])"
     ],
     "language": "python",
     "metadata": {},
     "outputs": [
      {
       "ename": "AttributeError",
       "evalue": "'module' object has no attribute 'create_fit_func'",
       "output_type": "pyerr",
       "traceback": [
        "\u001b[0;31m---------------------------------------------------------------------------\u001b[0m\n\u001b[0;31mAttributeError\u001b[0m                            Traceback (most recent call last)",
        "\u001b[0;32m<ipython-input-9-ae6547c1db61>\u001b[0m in \u001b[0;36m<module>\u001b[0;34m()\u001b[0m\n\u001b[0;32m----> 1\u001b[0;31m \u001b[0mfunc\u001b[0m \u001b[0;34m=\u001b[0m \u001b[0mpn\u001b[0m\u001b[0;34m.\u001b[0m\u001b[0mcreate_fit_func\u001b[0m\u001b[0;34m(\u001b[0m\u001b[0;34m[\u001b[0m\u001b[0;34m-\u001b[0m\u001b[0;36m1\u001b[0m\u001b[0;34m,\u001b[0m\u001b[0;36m0\u001b[0m\u001b[0;34m]\u001b[0m\u001b[0;34m)\u001b[0m\u001b[0;34m\u001b[0m\u001b[0m\n\u001b[0m",
        "\u001b[0;31mAttributeError\u001b[0m: 'module' object has no attribute 'create_fit_func'"
       ]
      }
     ],
     "prompt_number": 9
    },
    {
     "cell_type": "code",
     "collapsed": false,
     "input": [
      "func(1e6,1,1e-12)"
     ],
     "language": "python",
     "metadata": {},
     "outputs": [
      {
       "metadata": {},
       "output_type": "pyout",
       "prompt_number": 10,
       "text": [
        "0.0"
       ]
      }
     ],
     "prompt_number": 10
    },
    {
     "cell_type": "code",
     "collapsed": false,
     "input": [
      "fm = np.logspace(3,9,100)"
     ],
     "language": "python",
     "metadata": {},
     "outputs": [],
     "prompt_number": 11
    },
    {
     "cell_type": "code",
     "collapsed": false,
     "input": [
      "plt.semilogx(fm,func(fm,1e-6,1e-12))"
     ],
     "language": "python",
     "metadata": {},
     "outputs": [
      {
       "metadata": {},
       "output_type": "pyout",
       "prompt_number": 12,
       "text": [
        "[<matplotlib.lines.Line2D at 0x108976350>]"
       ]
      },
      {
       "metadata": {},
       "output_type": "display_data",
       "png": "[encoded data removed]",
       "text": [
        "<matplotlib.figure.Figure at 0x1082b3910>"
       ]
      }
     ],
     "prompt_number": 12
    },
    {
     "cell_type": "code",
     "collapsed": false,
     "input": [],
     "language": "python",
     "metadata": {},
     "outputs": []
    },
    {
     "cell_type": "code",
     "collapsed": false,
     "input": [
      "added.plot()"
     ],
     "language": "python",
     "metadata": {},
     "outputs": []
    },
    {
     "cell_type": "code",
     "collapsed": false,
     "input": [
      "Ldb = added.interp1d"
     ],
     "language": "python",
     "metadata": {},
     "outputs": []
    },
    {
     "cell_type": "code",
     "collapsed": false,
     "input": [
      "fc = intp.interp1d(added.fm, added.LdBc)\n",
      "fx = np.logspace(3,9,200)\n"
     ],
     "language": "python",
     "metadata": {},
     "outputs": []
    },
    {
     "cell_type": "code",
     "collapsed": false,
     "input": [
      "plt.semilogx(added.fm,added.LdBc,'-',fx,fc(fx),'o-')"
     ],
     "language": "python",
     "metadata": {},
     "outputs": []
    },
    {
     "cell_type": "markdown",
     "metadata": {},
     "source": [
      "# $\\Sigma\\Delta$  Generator\n",
      "Those are $\\Sigma-\\Delta$ digital modulators to implement fractional-N circuits. The noise theoretically is given by:\n",
      "\\begin{equation}\n",
      "\\mathcal{L}(f_m) = \\cfrac{(2\\pi)^2}{12 f_{ref}}\\left|\\cfrac{2 \\pi f_m}{f_{ref}}\\right|^{2(m-1)},\n",
      "\\end{equation}\n",
      "where $m$ is the order of the SDM, $f_{ref}$ is the reference frequency and $f_m$ is the frequency offset.\n",
      "\n",
      "This noise is refered to the input of the divider affected by the $\\Sigma\\Delta$-modulator. "
     ]
    },
    {
     "cell_type": "code",
     "collapsed": false,
     "input": [
      "import sdmod\n",
      "import numpy.random as rnd"
     ],
     "language": "python",
     "metadata": {},
     "outputs": []
    },
    {
     "cell_type": "code",
     "collapsed": false,
     "input": [
      "fracnum = 8191*np.ones(100000)\n",
      "sd, per = sdmod.gen_mash(3,19,fracnum)"
     ],
     "language": "python",
     "metadata": {},
     "outputs": []
    },
    {
     "cell_type": "heading",
     "level": 1,
     "metadata": {},
     "source": [
      "%aimport"
     ]
    },
    {
     "cell_type": "heading",
     "level": 1,
     "metadata": {},
     "source": [
      "How to calculate the imput error of the sigma delta modulator acording with the output"
     ]
    },
    {
     "cell_type": "markdown",
     "metadata": {},
     "source": [
      "The easiers way is calculate the error that is accumulated in a time $T_{ref}$, in this time the divider is not precisly $T_{ref}$ but has a period  $T_{o}*(N+SD)$ the value can be devided in $T_{o}*(N+f+SD-f)$, where $T_{o}*(N+f)$ equals $T_{ref}$ and the remaining error is then $T_{o}*(SD-f)$. replacing $T_{o} = T_{ref}/(N+f)$ then the $e_f =T_{ref}*(SD-f)/(N+f)$. \n",
      "The error in the phase is given by $\\phi_e = 2\\pi \\int{e_f} dt$ that evaluated in a period $T_{ref}$ equals $ 2 \\pi T_{ref}*\\int (SD-f) dt /(N+f)$"
     ]
    },
    {
     "cell_type": "heading",
     "level": 1,
     "metadata": {},
     "source": [
      "Baseband spectrum"
     ]
    },
    {
     "cell_type": "code",
     "collapsed": false,
     "input": [
      "from scipy.fftpack import fft\n",
      "from baseband_spectrum import *\n",
      "from scipy.signal import welch\n",
      "# Number of samplepoints\n",
      "fref = 27.6e6\n",
      "Tref = 1.0/fref\n",
      "N = 0\n",
      "phi_er = 2*np.pi*(sd-fracnum[0]/2**19).cumsum()"
     ],
     "language": "python",
     "metadata": {},
     "outputs": []
    },
    {
     "cell_type": "code",
     "collapsed": false,
     "input": [
      "V, AF, B = baseband_spectrum(phi_er,1.0/fref,100e3)\n",
      "PN = 10*np.log10(V+np.spacing(1))+3-3-10*np.log10(AF)\n",
      "Ns = len(PN)\n",
      "f  = np.arange(-1/2,1/2,1/Ns)*fref\n",
      "ind  = (f>AF) & (f<10000e6)\n",
      "plt.semilogx(f[ind],PN[ind])"
     ],
     "language": "python",
     "metadata": {},
     "outputs": []
    },
    {
     "cell_type": "code",
     "collapsed": false,
     "input": [
      "f, Pxx = welch(phi_er, fref, nperseg=1024)\n",
      "plt.semilogx(f,10*np.log10(Pxx))"
     ],
     "language": "python",
     "metadata": {},
     "outputs": []
    },
    {
     "cell_type": "code",
     "collapsed": false,
     "input": [
      "from numpy import (pi, log10, sin)\n",
      "def L_sdm_dB(m,fm,fref):\n",
      "    return 10*log10((2*pi)**2/(12*fref)*(2*sin(pi*fm/fref))**(2*(m-1))/2)"
     ],
     "language": "python",
     "metadata": {},
     "outputs": []
    },
    {
     "cell_type": "code",
     "collapsed": false,
     "input": [
      "fm = np.logspace(4,7,100)\n",
      "L = L_sdm_dB(3,fm,fref)\n",
      "plt.semilogx(fm,L)"
     ],
     "language": "python",
     "metadata": {},
     "outputs": []
    },
    {
     "cell_type": "code",
     "collapsed": false,
     "input": [],
     "language": "python",
     "metadata": {},
     "outputs": []
    }
   ],
   "metadata": {}
  }
 ]
}