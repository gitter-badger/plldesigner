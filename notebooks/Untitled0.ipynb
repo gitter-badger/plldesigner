{
 "metadata": {
  "name": "",
  "signature": "sha256:7174580d070b3a2efd04836e79e23b1017d4bed7eb882ce24b32c2bb50294282"
 },
 "nbformat": 3,
 "nbformat_minor": 0,
 "worksheets": []
}